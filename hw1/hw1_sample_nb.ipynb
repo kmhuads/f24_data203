{
 "cells": [
  {
   "cell_type": "markdown",
   "id": "2924f9c0-86da-4f4a-9924-182f391431e1",
   "metadata": {},
   "source": [
    "## EXAMPLE NOTEBOOK"
   ]
  },
  {
   "cell_type": "code",
   "execution_count": 1,
   "id": "a645f83a-716f-47ca-a4fb-0cd43520c343",
   "metadata": {
    "tags": []
   },
   "outputs": [],
   "source": [
    "  def make_menu():\n",
    "    import csv\n",
    "    import glob\n",
    "\n",
    "    m = {}\n",
    "\n",
    "    for f in glob.glob(\"data/*.csv\"):\n",
    "        k = f.split(\".\")[0]\n",
    "        rows = csv.reader(open(f))\n",
    "\n",
    "        _m = {}\n",
    "        for itm in rows:\n",
    "            _m[itm[0]] = [itm[1], itm[2]]\n",
    "        m[k] = _m\n",
    "    \n",
    "    return m"
   ]
  },
  {
   "cell_type": "markdown",
   "id": "fb367a63-e9df-4dfd-b681-5e46d47d7862",
   "metadata": {},
   "source": [
    "## § Task: Practice explaining code."
   ]
  },
  {
   "cell_type": "markdown",
   "id": "97846229-5d09-44f2-bad2-d2bd29595821",
   "metadata": {},
   "source": [
    "* YOUR ANSWER CAN GO HERE"
   ]
  },
  {
   "cell_type": "markdown",
   "id": "b3de653b-8c2e-47c3-b5c1-8271397a1b42",
   "metadata": {},
   "source": [
    "## § Task: Perform basic dictionary operations.\n",
    "\n"
   ]
  },
  {
   "cell_type": "code",
   "execution_count": null,
   "id": "41eaec37-fd49-4308-b930-72e8a6b58c3c",
   "metadata": {},
   "outputs": [],
   "source": [
    "## YOUR CODE CAN GO HERE"
   ]
  },
  {
   "cell_type": "markdown",
   "id": "ec7e93db-95a7-4750-b489-ba7b560f1a23",
   "metadata": {},
   "source": [
    "## § Task: Perform more complex Dictionary operations."
   ]
  },
  {
   "cell_type": "code",
   "execution_count": null,
   "id": "62f005bb-5d13-48d1-9fda-d666d2f3295f",
   "metadata": {},
   "outputs": [],
   "source": [
    "## YOUR CODE CAN GO HERE"
   ]
  }
 ],
 "metadata": {
  "kernelspec": {
   "display_name": "Python 3 (ipykernel)",
   "language": "python",
   "name": "python3"
  },
  "language_info": {
   "codemirror_mode": {
    "name": "ipython",
    "version": 3
   },
   "file_extension": ".py",
   "mimetype": "text/x-python",
   "name": "python",
   "nbconvert_exporter": "python",
   "pygments_lexer": "ipython3",
   "version": "3.11.4"
  }
 },
 "nbformat": 4,
 "nbformat_minor": 5
}
