{
 "cells": [
  {
   "cell_type": "markdown",
   "id": "3278a05f-17b3-429e-9d63-e03b4980fbe3",
   "metadata": {},
   "source": [
    "## API Extraction\n",
    "\n",
    "* [pahelper.py](./pahelper.py) provides a single function that grabs data from the PurpleAir API and stores it in a DataFrame\n",
    "* you will need to put your key in the first line of the file `pa_key.txt` at the same directory/folder level as this notebook"
   ]
  },
  {
   "cell_type": "code",
   "execution_count": 2,
   "id": "9933061e-efc1-4308-8810-1f3d661a8fee",
   "metadata": {},
   "outputs": [
    {
     "name": "stdout",
     "output_type": "stream",
     "text": [
      "https://api.purpleair.com/v1/sensors/175665/history/csv?fields=2.5_um_count%2C%202.5_um_count_a%2C%202.5_um_count_b%2C%20pm2.5_atm%2C%20pm2.5_atm_a%2C%20pm2.5_atm_b%2C%20pm2.5_cf_1%2C%20pm2.5_cf_1_a%2C%20pm2.5_cf_1_b&end_timestamp=2024-01-08T00:00:00Z&start_timestamp=2024-01-01T00:00:00Z\n",
      "https://api.purpleair.com/v1/sensors/175665/history/csv?fields=2.5_um_count%2C%202.5_um_count_a%2C%202.5_um_count_b%2C%20pm2.5_atm%2C%20pm2.5_atm_a%2C%20pm2.5_atm_b%2C%20pm2.5_cf_1%2C%20pm2.5_cf_1_a%2C%20pm2.5_cf_1_b&end_timestamp=2024-01-15T00:00:00Z&start_timestamp=2024-01-08T00:00:00Z\n",
      "https://api.purpleair.com/v1/sensors/175665/history/csv?fields=2.5_um_count%2C%202.5_um_count_a%2C%202.5_um_count_b%2C%20pm2.5_atm%2C%20pm2.5_atm_a%2C%20pm2.5_atm_b%2C%20pm2.5_cf_1%2C%20pm2.5_cf_1_a%2C%20pm2.5_cf_1_b&end_timestamp=2024-01-22T00:00:00Z&start_timestamp=2024-01-15T00:00:00Z\n",
      "https://api.purpleair.com/v1/sensors/175665/history/csv?fields=2.5_um_count%2C%202.5_um_count_a%2C%202.5_um_count_b%2C%20pm2.5_atm%2C%20pm2.5_atm_a%2C%20pm2.5_atm_b%2C%20pm2.5_cf_1%2C%20pm2.5_cf_1_a%2C%20pm2.5_cf_1_b&end_timestamp=2024-01-29T00:00:00Z&start_timestamp=2024-01-22T00:00:00Z\n",
      "https://api.purpleair.com/v1/sensors/175665/history/csv?fields=2.5_um_count%2C%202.5_um_count_a%2C%202.5_um_count_b%2C%20pm2.5_atm%2C%20pm2.5_atm_a%2C%20pm2.5_atm_b%2C%20pm2.5_cf_1%2C%20pm2.5_cf_1_a%2C%20pm2.5_cf_1_b&end_timestamp=2024-02-01T00:00:00Z&start_timestamp=2024-01-29T00:00:00Z\n",
      "https://api.purpleair.com/v1/sensors/175665/history/csv?fields=2.5_um_count%2C%202.5_um_count_a%2C%202.5_um_count_b%2C%20pm2.5_atm%2C%20pm2.5_atm_a%2C%20pm2.5_atm_b%2C%20pm2.5_cf_1%2C%20pm2.5_cf_1_a%2C%20pm2.5_cf_1_b&end_timestamp=2024-02-08T00:00:00Z&start_timestamp=2024-02-01T00:00:00Z\n",
      "https://api.purpleair.com/v1/sensors/175665/history/csv?fields=2.5_um_count%2C%202.5_um_count_a%2C%202.5_um_count_b%2C%20pm2.5_atm%2C%20pm2.5_atm_a%2C%20pm2.5_atm_b%2C%20pm2.5_cf_1%2C%20pm2.5_cf_1_a%2C%20pm2.5_cf_1_b&end_timestamp=2024-02-15T00:00:00Z&start_timestamp=2024-02-08T00:00:00Z\n",
      "https://api.purpleair.com/v1/sensors/175665/history/csv?fields=2.5_um_count%2C%202.5_um_count_a%2C%202.5_um_count_b%2C%20pm2.5_atm%2C%20pm2.5_atm_a%2C%20pm2.5_atm_b%2C%20pm2.5_cf_1%2C%20pm2.5_cf_1_a%2C%20pm2.5_cf_1_b&end_timestamp=2024-02-22T00:00:00Z&start_timestamp=2024-02-15T00:00:00Z\n"
     ]
    },
    {
     "name": "stderr",
     "output_type": "stream",
     "text": [
      "/home/jupyter-huadmin/homeworks/hw03/helpers/pahelper.py:35: FutureWarning: The behavior of DataFrame concatenation with empty or all-NA entries is deprecated. In a future version, this will no longer exclude empty or all-NA columns when determining the result dtypes. To retain the old behavior, exclude the relevant entries before the concat operation.\n",
      "  df = pd.concat([df, pd.read_csv(StringIO(bytes.decode(d)), index_col='time_stamp')])\n"
     ]
    },
    {
     "name": "stdout",
     "output_type": "stream",
     "text": [
      "https://api.purpleair.com/v1/sensors/175665/history/csv?fields=2.5_um_count%2C%202.5_um_count_a%2C%202.5_um_count_b%2C%20pm2.5_atm%2C%20pm2.5_atm_a%2C%20pm2.5_atm_b%2C%20pm2.5_cf_1%2C%20pm2.5_cf_1_a%2C%20pm2.5_cf_1_b&end_timestamp=2024-02-29T00:00:00Z&start_timestamp=2024-02-22T00:00:00Z\n",
      "https://api.purpleair.com/v1/sensors/175665/history/csv?fields=2.5_um_count%2C%202.5_um_count_a%2C%202.5_um_count_b%2C%20pm2.5_atm%2C%20pm2.5_atm_a%2C%20pm2.5_atm_b%2C%20pm2.5_cf_1%2C%20pm2.5_cf_1_a%2C%20pm2.5_cf_1_b&end_timestamp=2024-03-01T00:00:00Z&start_timestamp=2024-02-29T00:00:00Z\n",
      "https://api.purpleair.com/v1/sensors/175665/history/csv?fields=2.5_um_count%2C%202.5_um_count_a%2C%202.5_um_count_b%2C%20pm2.5_atm%2C%20pm2.5_atm_a%2C%20pm2.5_atm_b%2C%20pm2.5_cf_1%2C%20pm2.5_cf_1_a%2C%20pm2.5_cf_1_b&end_timestamp=2024-03-08T00:00:00Z&start_timestamp=2024-03-01T00:00:00Z\n",
      "https://api.purpleair.com/v1/sensors/175665/history/csv?fields=2.5_um_count%2C%202.5_um_count_a%2C%202.5_um_count_b%2C%20pm2.5_atm%2C%20pm2.5_atm_a%2C%20pm2.5_atm_b%2C%20pm2.5_cf_1%2C%20pm2.5_cf_1_a%2C%20pm2.5_cf_1_b&end_timestamp=2024-03-15T00:00:00Z&start_timestamp=2024-03-08T00:00:00Z\n",
      "https://api.purpleair.com/v1/sensors/175665/history/csv?fields=2.5_um_count%2C%202.5_um_count_a%2C%202.5_um_count_b%2C%20pm2.5_atm%2C%20pm2.5_atm_a%2C%20pm2.5_atm_b%2C%20pm2.5_cf_1%2C%20pm2.5_cf_1_a%2C%20pm2.5_cf_1_b&end_timestamp=2024-03-22T00:00:00Z&start_timestamp=2024-03-15T00:00:00Z\n",
      "https://api.purpleair.com/v1/sensors/175665/history/csv?fields=2.5_um_count%2C%202.5_um_count_a%2C%202.5_um_count_b%2C%20pm2.5_atm%2C%20pm2.5_atm_a%2C%20pm2.5_atm_b%2C%20pm2.5_cf_1%2C%20pm2.5_cf_1_a%2C%20pm2.5_cf_1_b&end_timestamp=2024-03-29T00:00:00Z&start_timestamp=2024-03-22T00:00:00Z\n",
      "https://api.purpleair.com/v1/sensors/175665/history/csv?fields=2.5_um_count%2C%202.5_um_count_a%2C%202.5_um_count_b%2C%20pm2.5_atm%2C%20pm2.5_atm_a%2C%20pm2.5_atm_b%2C%20pm2.5_cf_1%2C%20pm2.5_cf_1_a%2C%20pm2.5_cf_1_b&end_timestamp=2024-04-01T00:00:00Z&start_timestamp=2024-03-29T00:00:00Z\n",
      "https://api.purpleair.com/v1/sensors/175665/history/csv?fields=2.5_um_count%2C%202.5_um_count_a%2C%202.5_um_count_b%2C%20pm2.5_atm%2C%20pm2.5_atm_a%2C%20pm2.5_atm_b%2C%20pm2.5_cf_1%2C%20pm2.5_cf_1_a%2C%20pm2.5_cf_1_b&end_timestamp=2024-04-08T00:00:00Z&start_timestamp=2024-04-01T00:00:00Z\n",
      "https://api.purpleair.com/v1/sensors/175665/history/csv?fields=2.5_um_count%2C%202.5_um_count_a%2C%202.5_um_count_b%2C%20pm2.5_atm%2C%20pm2.5_atm_a%2C%20pm2.5_atm_b%2C%20pm2.5_cf_1%2C%20pm2.5_cf_1_a%2C%20pm2.5_cf_1_b&end_timestamp=2024-04-15T00:00:00Z&start_timestamp=2024-04-08T00:00:00Z\n",
      "https://api.purpleair.com/v1/sensors/175665/history/csv?fields=2.5_um_count%2C%202.5_um_count_a%2C%202.5_um_count_b%2C%20pm2.5_atm%2C%20pm2.5_atm_a%2C%20pm2.5_atm_b%2C%20pm2.5_cf_1%2C%20pm2.5_cf_1_a%2C%20pm2.5_cf_1_b&end_timestamp=2024-04-22T00:00:00Z&start_timestamp=2024-04-15T00:00:00Z\n",
      "https://api.purpleair.com/v1/sensors/175665/history/csv?fields=2.5_um_count%2C%202.5_um_count_a%2C%202.5_um_count_b%2C%20pm2.5_atm%2C%20pm2.5_atm_a%2C%20pm2.5_atm_b%2C%20pm2.5_cf_1%2C%20pm2.5_cf_1_a%2C%20pm2.5_cf_1_b&end_timestamp=2024-04-29T00:00:00Z&start_timestamp=2024-04-22T00:00:00Z\n",
      "https://api.purpleair.com/v1/sensors/175665/history/csv?fields=2.5_um_count%2C%202.5_um_count_a%2C%202.5_um_count_b%2C%20pm2.5_atm%2C%20pm2.5_atm_a%2C%20pm2.5_atm_b%2C%20pm2.5_cf_1%2C%20pm2.5_cf_1_a%2C%20pm2.5_cf_1_b&end_timestamp=2024-05-01T00:00:00Z&start_timestamp=2024-04-29T00:00:00Z\n",
      "https://api.purpleair.com/v1/sensors/175665/history/csv?fields=2.5_um_count%2C%202.5_um_count_a%2C%202.5_um_count_b%2C%20pm2.5_atm%2C%20pm2.5_atm_a%2C%20pm2.5_atm_b%2C%20pm2.5_cf_1%2C%20pm2.5_cf_1_a%2C%20pm2.5_cf_1_b&end_timestamp=2024-05-08T00:00:00Z&start_timestamp=2024-05-01T00:00:00Z\n",
      "https://api.purpleair.com/v1/sensors/175665/history/csv?fields=2.5_um_count%2C%202.5_um_count_a%2C%202.5_um_count_b%2C%20pm2.5_atm%2C%20pm2.5_atm_a%2C%20pm2.5_atm_b%2C%20pm2.5_cf_1%2C%20pm2.5_cf_1_a%2C%20pm2.5_cf_1_b&end_timestamp=2024-05-15T00:00:00Z&start_timestamp=2024-05-08T00:00:00Z\n",
      "https://api.purpleair.com/v1/sensors/175665/history/csv?fields=2.5_um_count%2C%202.5_um_count_a%2C%202.5_um_count_b%2C%20pm2.5_atm%2C%20pm2.5_atm_a%2C%20pm2.5_atm_b%2C%20pm2.5_cf_1%2C%20pm2.5_cf_1_a%2C%20pm2.5_cf_1_b&end_timestamp=2024-05-22T00:00:00Z&start_timestamp=2024-05-15T00:00:00Z\n",
      "https://api.purpleair.com/v1/sensors/175665/history/csv?fields=2.5_um_count%2C%202.5_um_count_a%2C%202.5_um_count_b%2C%20pm2.5_atm%2C%20pm2.5_atm_a%2C%20pm2.5_atm_b%2C%20pm2.5_cf_1%2C%20pm2.5_cf_1_a%2C%20pm2.5_cf_1_b&end_timestamp=2024-05-29T00:00:00Z&start_timestamp=2024-05-22T00:00:00Z\n",
      "https://api.purpleair.com/v1/sensors/175665/history/csv?fields=2.5_um_count%2C%202.5_um_count_a%2C%202.5_um_count_b%2C%20pm2.5_atm%2C%20pm2.5_atm_a%2C%20pm2.5_atm_b%2C%20pm2.5_cf_1%2C%20pm2.5_cf_1_a%2C%20pm2.5_cf_1_b&end_timestamp=2024-06-01T00:00:00Z&start_timestamp=2024-05-29T00:00:00Z\n",
      "https://api.purpleair.com/v1/sensors/175665/history/csv?fields=2.5_um_count%2C%202.5_um_count_a%2C%202.5_um_count_b%2C%20pm2.5_atm%2C%20pm2.5_atm_a%2C%20pm2.5_atm_b%2C%20pm2.5_cf_1%2C%20pm2.5_cf_1_a%2C%20pm2.5_cf_1_b&end_timestamp=2024-06-08T00:00:00Z&start_timestamp=2024-06-01T00:00:00Z\n",
      "https://api.purpleair.com/v1/sensors/175665/history/csv?fields=2.5_um_count%2C%202.5_um_count_a%2C%202.5_um_count_b%2C%20pm2.5_atm%2C%20pm2.5_atm_a%2C%20pm2.5_atm_b%2C%20pm2.5_cf_1%2C%20pm2.5_cf_1_a%2C%20pm2.5_cf_1_b&end_timestamp=2024-06-15T00:00:00Z&start_timestamp=2024-06-08T00:00:00Z\n",
      "https://api.purpleair.com/v1/sensors/175665/history/csv?fields=2.5_um_count%2C%202.5_um_count_a%2C%202.5_um_count_b%2C%20pm2.5_atm%2C%20pm2.5_atm_a%2C%20pm2.5_atm_b%2C%20pm2.5_cf_1%2C%20pm2.5_cf_1_a%2C%20pm2.5_cf_1_b&end_timestamp=2024-06-22T00:00:00Z&start_timestamp=2024-06-15T00:00:00Z\n",
      "https://api.purpleair.com/v1/sensors/175665/history/csv?fields=2.5_um_count%2C%202.5_um_count_a%2C%202.5_um_count_b%2C%20pm2.5_atm%2C%20pm2.5_atm_a%2C%20pm2.5_atm_b%2C%20pm2.5_cf_1%2C%20pm2.5_cf_1_a%2C%20pm2.5_cf_1_b&end_timestamp=2024-06-29T00:00:00Z&start_timestamp=2024-06-22T00:00:00Z\n",
      "https://api.purpleair.com/v1/sensors/175665/history/csv?fields=2.5_um_count%2C%202.5_um_count_a%2C%202.5_um_count_b%2C%20pm2.5_atm%2C%20pm2.5_atm_a%2C%20pm2.5_atm_b%2C%20pm2.5_cf_1%2C%20pm2.5_cf_1_a%2C%20pm2.5_cf_1_b&end_timestamp=2024-07-01T00:00:00Z&start_timestamp=2024-06-29T00:00:00Z\n",
      "https://api.purpleair.com/v1/sensors/175665/history/csv?fields=2.5_um_count%2C%202.5_um_count_a%2C%202.5_um_count_b%2C%20pm2.5_atm%2C%20pm2.5_atm_a%2C%20pm2.5_atm_b%2C%20pm2.5_cf_1%2C%20pm2.5_cf_1_a%2C%20pm2.5_cf_1_b&end_timestamp=2024-07-08T00:00:00Z&start_timestamp=2024-07-01T00:00:00Z\n",
      "https://api.purpleair.com/v1/sensors/175665/history/csv?fields=2.5_um_count%2C%202.5_um_count_a%2C%202.5_um_count_b%2C%20pm2.5_atm%2C%20pm2.5_atm_a%2C%20pm2.5_atm_b%2C%20pm2.5_cf_1%2C%20pm2.5_cf_1_a%2C%20pm2.5_cf_1_b&end_timestamp=2024-07-15T00:00:00Z&start_timestamp=2024-07-08T00:00:00Z\n",
      "https://api.purpleair.com/v1/sensors/175665/history/csv?fields=2.5_um_count%2C%202.5_um_count_a%2C%202.5_um_count_b%2C%20pm2.5_atm%2C%20pm2.5_atm_a%2C%20pm2.5_atm_b%2C%20pm2.5_cf_1%2C%20pm2.5_cf_1_a%2C%20pm2.5_cf_1_b&end_timestamp=2024-07-22T00:00:00Z&start_timestamp=2024-07-15T00:00:00Z\n",
      "https://api.purpleair.com/v1/sensors/175665/history/csv?fields=2.5_um_count%2C%202.5_um_count_a%2C%202.5_um_count_b%2C%20pm2.5_atm%2C%20pm2.5_atm_a%2C%20pm2.5_atm_b%2C%20pm2.5_cf_1%2C%20pm2.5_cf_1_a%2C%20pm2.5_cf_1_b&end_timestamp=2024-07-29T00:00:00Z&start_timestamp=2024-07-22T00:00:00Z\n",
      "https://api.purpleair.com/v1/sensors/175665/history/csv?fields=2.5_um_count%2C%202.5_um_count_a%2C%202.5_um_count_b%2C%20pm2.5_atm%2C%20pm2.5_atm_a%2C%20pm2.5_atm_b%2C%20pm2.5_cf_1%2C%20pm2.5_cf_1_a%2C%20pm2.5_cf_1_b&end_timestamp=2024-08-01T00:00:00Z&start_timestamp=2024-07-29T00:00:00Z\n",
      "https://api.purpleair.com/v1/sensors/175665/history/csv?fields=2.5_um_count%2C%202.5_um_count_a%2C%202.5_um_count_b%2C%20pm2.5_atm%2C%20pm2.5_atm_a%2C%20pm2.5_atm_b%2C%20pm2.5_cf_1%2C%20pm2.5_cf_1_a%2C%20pm2.5_cf_1_b&end_timestamp=2024-08-08T00:00:00Z&start_timestamp=2024-08-01T00:00:00Z\n",
      "https://api.purpleair.com/v1/sensors/175665/history/csv?fields=2.5_um_count%2C%202.5_um_count_a%2C%202.5_um_count_b%2C%20pm2.5_atm%2C%20pm2.5_atm_a%2C%20pm2.5_atm_b%2C%20pm2.5_cf_1%2C%20pm2.5_cf_1_a%2C%20pm2.5_cf_1_b&end_timestamp=2024-08-15T00:00:00Z&start_timestamp=2024-08-08T00:00:00Z\n",
      "https://api.purpleair.com/v1/sensors/175665/history/csv?fields=2.5_um_count%2C%202.5_um_count_a%2C%202.5_um_count_b%2C%20pm2.5_atm%2C%20pm2.5_atm_a%2C%20pm2.5_atm_b%2C%20pm2.5_cf_1%2C%20pm2.5_cf_1_a%2C%20pm2.5_cf_1_b&end_timestamp=2024-08-22T00:00:00Z&start_timestamp=2024-08-15T00:00:00Z\n",
      "https://api.purpleair.com/v1/sensors/175665/history/csv?fields=2.5_um_count%2C%202.5_um_count_a%2C%202.5_um_count_b%2C%20pm2.5_atm%2C%20pm2.5_atm_a%2C%20pm2.5_atm_b%2C%20pm2.5_cf_1%2C%20pm2.5_cf_1_a%2C%20pm2.5_cf_1_b&end_timestamp=2024-08-29T00:00:00Z&start_timestamp=2024-08-22T00:00:00Z\n",
      "https://api.purpleair.com/v1/sensors/175665/history/csv?fields=2.5_um_count%2C%202.5_um_count_a%2C%202.5_um_count_b%2C%20pm2.5_atm%2C%20pm2.5_atm_a%2C%20pm2.5_atm_b%2C%20pm2.5_cf_1%2C%20pm2.5_cf_1_a%2C%20pm2.5_cf_1_b&end_timestamp=2024-09-01T00:00:00Z&start_timestamp=2024-08-29T00:00:00Z\n",
      "https://api.purpleair.com/v1/sensors/175665/history/csv?fields=2.5_um_count%2C%202.5_um_count_a%2C%202.5_um_count_b%2C%20pm2.5_atm%2C%20pm2.5_atm_a%2C%20pm2.5_atm_b%2C%20pm2.5_cf_1%2C%20pm2.5_cf_1_a%2C%20pm2.5_cf_1_b&end_timestamp=2024-09-08T00:00:00Z&start_timestamp=2024-09-01T00:00:00Z\n",
      "https://api.purpleair.com/v1/sensors/175665/history/csv?fields=2.5_um_count%2C%202.5_um_count_a%2C%202.5_um_count_b%2C%20pm2.5_atm%2C%20pm2.5_atm_a%2C%20pm2.5_atm_b%2C%20pm2.5_cf_1%2C%20pm2.5_cf_1_a%2C%20pm2.5_cf_1_b&end_timestamp=2024-09-15T00:00:00Z&start_timestamp=2024-09-08T00:00:00Z\n",
      "https://api.purpleair.com/v1/sensors/175665/history/csv?fields=2.5_um_count%2C%202.5_um_count_a%2C%202.5_um_count_b%2C%20pm2.5_atm%2C%20pm2.5_atm_a%2C%20pm2.5_atm_b%2C%20pm2.5_cf_1%2C%20pm2.5_cf_1_a%2C%20pm2.5_cf_1_b&end_timestamp=2024-09-22T00:00:00Z&start_timestamp=2024-09-15T00:00:00Z\n",
      "https://api.purpleair.com/v1/sensors/175665/history/csv?fields=2.5_um_count%2C%202.5_um_count_a%2C%202.5_um_count_b%2C%20pm2.5_atm%2C%20pm2.5_atm_a%2C%20pm2.5_atm_b%2C%20pm2.5_cf_1%2C%20pm2.5_cf_1_a%2C%20pm2.5_cf_1_b&end_timestamp=2024-09-29T00:00:00Z&start_timestamp=2024-09-22T00:00:00Z\n",
      "https://api.purpleair.com/v1/sensors/175665/history/csv?fields=2.5_um_count%2C%202.5_um_count_a%2C%202.5_um_count_b%2C%20pm2.5_atm%2C%20pm2.5_atm_a%2C%20pm2.5_atm_b%2C%20pm2.5_cf_1%2C%20pm2.5_cf_1_a%2C%20pm2.5_cf_1_b&end_timestamp=2024-10-01T00:00:00Z&start_timestamp=2024-09-29T00:00:00Z\n",
      "https://api.purpleair.com/v1/sensors/175665/history/csv?fields=2.5_um_count%2C%202.5_um_count_a%2C%202.5_um_count_b%2C%20pm2.5_atm%2C%20pm2.5_atm_a%2C%20pm2.5_atm_b%2C%20pm2.5_cf_1%2C%20pm2.5_cf_1_a%2C%20pm2.5_cf_1_b&end_timestamp=2024-10-08T00:00:00Z&start_timestamp=2024-10-01T00:00:00Z\n",
      "https://api.purpleair.com/v1/sensors/175665/history/csv?fields=2.5_um_count%2C%202.5_um_count_a%2C%202.5_um_count_b%2C%20pm2.5_atm%2C%20pm2.5_atm_a%2C%20pm2.5_atm_b%2C%20pm2.5_cf_1%2C%20pm2.5_cf_1_a%2C%20pm2.5_cf_1_b&end_timestamp=2024-10-15T00:00:00Z&start_timestamp=2024-10-08T00:00:00Z\n",
      "https://api.purpleair.com/v1/sensors/175665/history/csv?fields=2.5_um_count%2C%202.5_um_count_a%2C%202.5_um_count_b%2C%20pm2.5_atm%2C%20pm2.5_atm_a%2C%20pm2.5_atm_b%2C%20pm2.5_cf_1%2C%20pm2.5_cf_1_a%2C%20pm2.5_cf_1_b&end_timestamp=2024-10-22T00:00:00Z&start_timestamp=2024-10-15T00:00:00Z\n",
      "https://api.purpleair.com/v1/sensors/175665/history/csv?fields=2.5_um_count%2C%202.5_um_count_a%2C%202.5_um_count_b%2C%20pm2.5_atm%2C%20pm2.5_atm_a%2C%20pm2.5_atm_b%2C%20pm2.5_cf_1%2C%20pm2.5_cf_1_a%2C%20pm2.5_cf_1_b&end_timestamp=2024-10-29T00:00:00Z&start_timestamp=2024-10-22T00:00:00Z\n",
      "https://api.purpleair.com/v1/sensors/175665/history/csv?fields=2.5_um_count%2C%202.5_um_count_a%2C%202.5_um_count_b%2C%20pm2.5_atm%2C%20pm2.5_atm_a%2C%20pm2.5_atm_b%2C%20pm2.5_cf_1%2C%20pm2.5_cf_1_a%2C%20pm2.5_cf_1_b&end_timestamp=2024-11-01T00:00:00Z&start_timestamp=2024-10-29T00:00:00Z\n"
     ]
    }
   ],
   "source": [
    "from helpers import pahelper\n",
    "from datetime import datetime\n",
    "\n",
    "for m in range(1, 11):\n",
    "    pahelper.get_pd_dataframe(\n",
    "        datetime(2024, m, 1), \n",
    "        datetime(2024, m+1, 1), 175665).to_csv(f\"data/cf_mossville/{m}.csv\")"
   ]
  },
  {
   "cell_type": "code",
   "execution_count": null,
   "id": "5bb4bfe2-829e-4c9c-b76c-b52428470a90",
   "metadata": {},
   "outputs": [],
   "source": []
  }
 ],
 "metadata": {
  "kernelspec": {
   "display_name": "Python 3 (ipykernel)",
   "language": "python",
   "name": "python3"
  },
  "language_info": {
   "codemirror_mode": {
    "name": "ipython",
    "version": 3
   },
   "file_extension": ".py",
   "mimetype": "text/x-python",
   "name": "python",
   "nbconvert_exporter": "python",
   "pygments_lexer": "ipython3",
   "version": "3.11.4"
  }
 },
 "nbformat": 4,
 "nbformat_minor": 5
}
