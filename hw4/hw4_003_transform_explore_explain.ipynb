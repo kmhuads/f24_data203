{
 "cells": [
  {
   "cell_type": "markdown",
   "id": "8d8e3602-2d49-478d-b1e5-6d2fea6cb397",
   "metadata": {},
   "source": [
    "# HW4 003 Data Transform EXPLORE-EXPLAIN"
   ]
  },
  {
   "cell_type": "code",
   "execution_count": 1,
   "id": "f91db56e-7820-4371-bfa5-60a07eb8764e",
   "metadata": {},
   "outputs": [],
   "source": [
    "import pandas as pd"
   ]
  },
  {
   "cell_type": "markdown",
   "id": "98c777d7-2467-4c15-a1e8-47baea6a2347",
   "metadata": {},
   "source": [
    "## EXPLORE\n",
    "\n",
    "Execute the cells below, play with the output and `df` so that you can be prepared for the questions below.  \n",
    "\n",
    "You should leave your playing in your submission, so I can see how you worked with the data to explore it."
   ]
  },
  {
   "cell_type": "code",
   "execution_count": 2,
   "id": "64783509-79af-40f0-a908-b8080bc430e1",
   "metadata": {},
   "outputs": [
    {
     "data": {
      "text/html": [
       "<div>\n",
       "<style scoped>\n",
       "    .dataframe tbody tr th:only-of-type {\n",
       "        vertical-align: middle;\n",
       "    }\n",
       "\n",
       "    .dataframe tbody tr th {\n",
       "        vertical-align: top;\n",
       "    }\n",
       "\n",
       "    .dataframe thead th {\n",
       "        text-align: right;\n",
       "    }\n",
       "</style>\n",
       "<table border=\"1\" class=\"dataframe\">\n",
       "  <thead>\n",
       "    <tr style=\"text-align: right;\">\n",
       "      <th></th>\n",
       "      <th>pm2.5_atm</th>\n",
       "    </tr>\n",
       "    <tr>\n",
       "      <th>time_stamp</th>\n",
       "      <th></th>\n",
       "    </tr>\n",
       "  </thead>\n",
       "  <tbody>\n",
       "    <tr>\n",
       "      <th>2024-02-25 00:00:00+00:00</th>\n",
       "      <td>9.929602</td>\n",
       "    </tr>\n",
       "    <tr>\n",
       "      <th>2024-02-26 00:00:00+00:00</th>\n",
       "      <td>19.305769</td>\n",
       "    </tr>\n",
       "    <tr>\n",
       "      <th>2024-02-27 00:00:00+00:00</th>\n",
       "      <td>11.951813</td>\n",
       "    </tr>\n",
       "    <tr>\n",
       "      <th>2024-02-28 00:00:00+00:00</th>\n",
       "      <td>18.240583</td>\n",
       "    </tr>\n",
       "    <tr>\n",
       "      <th>2024-02-29 00:00:00+00:00</th>\n",
       "      <td>2.606073</td>\n",
       "    </tr>\n",
       "  </tbody>\n",
       "</table>\n",
       "</div>"
      ],
      "text/plain": [
       "                           pm2.5_atm\n",
       "time_stamp                          \n",
       "2024-02-25 00:00:00+00:00   9.929602\n",
       "2024-02-26 00:00:00+00:00  19.305769\n",
       "2024-02-27 00:00:00+00:00  11.951813\n",
       "2024-02-28 00:00:00+00:00  18.240583\n",
       "2024-02-29 00:00:00+00:00   2.606073"
      ]
     },
     "execution_count": 2,
     "metadata": {},
     "output_type": "execute_result"
    }
   ],
   "source": [
    "df = pd.read_csv(\"data/mossville_pa_hmeans.csv\").set_index(\"time_stamp\")\n",
    "df.head()"
   ]
  },
  {
   "cell_type": "markdown",
   "id": "aa2d6944-44cd-4fb4-97a9-9f415f53d859",
   "metadata": {},
   "source": [
    "## EXPLAIN\n",
    "\n",
    "1. Please visit the forum post [here](https://community.purpleair.com/t/how-to-calculate-the-us-epa-pm2-5-aqi/877/10) and in your own words, explain what the conversation is about?  Make sure your explanation could be understood by an 8th grader who has a basic understanding of the web.\n",
    "2. Explain what code in the cell below \"Answer #2\" does?\n",
    "3. Look at the code in [`helpers/pm25helper.py`](./helpers/pm25helper.py).  Explain what the function `pm25_to_aqi` does.  Why is this function necessary?"
   ]
  },
  {
   "cell_type": "markdown",
   "id": "fb161f4b-4c5e-4cd2-921a-cbf1f80acfbd",
   "metadata": {},
   "source": [
    "## ANSWER #1\n",
    "\n",
    "**Edit this markdown cell** and put your answer."
   ]
  },
  {
   "cell_type": "markdown",
   "id": "87030616-c81e-47e6-b9be-fafa341bbe1a",
   "metadata": {},
   "source": [
    "## ANSWER #2\n",
    "\n",
    "**Edit this markdown cell** and put your answer.  You study the code in the next cell."
   ]
  },
  {
   "cell_type": "code",
   "execution_count": 3,
   "id": "43aaa002-d41b-4a2d-9ddd-6cbc223f661a",
   "metadata": {},
   "outputs": [
    {
     "data": {
      "text/html": [
       "<div>\n",
       "<style scoped>\n",
       "    .dataframe tbody tr th:only-of-type {\n",
       "        vertical-align: middle;\n",
       "    }\n",
       "\n",
       "    .dataframe tbody tr th {\n",
       "        vertical-align: top;\n",
       "    }\n",
       "\n",
       "    .dataframe thead th {\n",
       "        text-align: right;\n",
       "    }\n",
       "</style>\n",
       "<table border=\"1\" class=\"dataframe\">\n",
       "  <thead>\n",
       "    <tr style=\"text-align: right;\">\n",
       "      <th></th>\n",
       "      <th>pm2.5_atm</th>\n",
       "      <th>pm2.5_aqi</th>\n",
       "    </tr>\n",
       "    <tr>\n",
       "      <th>time_stamp</th>\n",
       "      <th></th>\n",
       "      <th></th>\n",
       "    </tr>\n",
       "  </thead>\n",
       "  <tbody>\n",
       "    <tr>\n",
       "      <th>2024-02-25 00:00:00+00:00</th>\n",
       "      <td>9.929602</td>\n",
       "      <td>41.373342</td>\n",
       "    </tr>\n",
       "    <tr>\n",
       "      <th>2024-02-26 00:00:00+00:00</th>\n",
       "      <td>19.305769</td>\n",
       "      <td>65.364394</td>\n",
       "    </tr>\n",
       "    <tr>\n",
       "      <th>2024-02-27 00:00:00+00:00</th>\n",
       "      <td>11.951813</td>\n",
       "      <td>49.799219</td>\n",
       "    </tr>\n",
       "    <tr>\n",
       "      <th>2024-02-28 00:00:00+00:00</th>\n",
       "      <td>18.240583</td>\n",
       "      <td>63.124255</td>\n",
       "    </tr>\n",
       "    <tr>\n",
       "      <th>2024-02-29 00:00:00+00:00</th>\n",
       "      <td>2.606073</td>\n",
       "      <td>10.858637</td>\n",
       "    </tr>\n",
       "  </tbody>\n",
       "</table>\n",
       "</div>"
      ],
      "text/plain": [
       "                           pm2.5_atm  pm2.5_aqi\n",
       "time_stamp                                     \n",
       "2024-02-25 00:00:00+00:00   9.929602  41.373342\n",
       "2024-02-26 00:00:00+00:00  19.305769  65.364394\n",
       "2024-02-27 00:00:00+00:00  11.951813  49.799219\n",
       "2024-02-28 00:00:00+00:00  18.240583  63.124255\n",
       "2024-02-29 00:00:00+00:00   2.606073  10.858637"
      ]
     },
     "execution_count": 3,
     "metadata": {},
     "output_type": "execute_result"
    }
   ],
   "source": [
    "from helpers.pm25helper import pm25_to_aqi\n",
    "\n",
    "df['pm2.5_aqi'] = df['pm2.5_atm'].apply(pm25_to_aqi)\n",
    "df.to_csv(\"data/mossville_pa_hmeans_aqi.csv\")\n",
    "df.head()"
   ]
  },
  {
   "cell_type": "markdown",
   "id": "211962d8-42e4-4734-9fbd-77feaabb7da5",
   "metadata": {},
   "source": [
    "## ANSWER #3\n",
    "\n",
    "**Edit this markdown cell** and put your answer. "
   ]
  }
 ],
 "metadata": {
  "kernelspec": {
   "display_name": "Python 3 (ipykernel)",
   "language": "python",
   "name": "python3"
  },
  "language_info": {
   "codemirror_mode": {
    "name": "ipython",
    "version": 3
   },
   "file_extension": ".py",
   "mimetype": "text/x-python",
   "name": "python",
   "nbconvert_exporter": "python",
   "pygments_lexer": "ipython3",
   "version": "3.11.4"
  }
 },
 "nbformat": 4,
 "nbformat_minor": 5
}
