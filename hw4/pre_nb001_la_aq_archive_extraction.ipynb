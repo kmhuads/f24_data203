{
 "cells": [
  {
   "attachments": {},
   "cell_type": "markdown",
   "id": "8db7f11c-d3ca-4024-a220-065cff6d629b",
   "metadata": {},
   "source": [
    "## CommonCrawl Data Extraction\n",
    "\n",
    "* [https://commoncrawl.org/get-started](https://commoncrawl.org/get-started)"
   ]
  },
  {
   "cell_type": "code",
   "execution_count": 1,
   "id": "058458b7-a67b-4725-9aeb-9dc354ed7765",
   "metadata": {},
   "outputs": [
    {
     "name": "stdout",
     "output_type": "stream",
     "text": [
      "[info]: Found 1 records for https://airquality.deq.louisiana.gov/Forecast\n",
      "[info]: Successfully fetched content for https://airquality.deq.louisiana.gov/Forecast\n",
      "[info]: Found 1 records for https://airquality.deq.louisiana.gov/Forecast\n",
      "[info]: Successfully fetched content for https://airquality.deq.louisiana.gov/Forecast\n",
      "[info]: Found 1 records for https://airquality.deq.louisiana.gov/Forecast\n",
      "[info]: Successfully fetched content for https://airquality.deq.louisiana.gov/Forecast\n",
      "[info]: Found 1 records for https://airquality.deq.louisiana.gov/Forecast\n",
      "[info]: Successfully fetched content for https://airquality.deq.louisiana.gov/Forecast\n",
      "[info]: Found 1 records for https://airquality.deq.louisiana.gov/Forecast\n",
      "[info]: Successfully fetched content for https://airquality.deq.louisiana.gov/Forecast\n",
      "[info]: Found 1 records for https://airquality.deq.louisiana.gov/Forecast\n",
      "[info]: Successfully fetched content for https://airquality.deq.louisiana.gov/Forecast\n",
      "[info]: Found 1 records for https://airquality.deq.louisiana.gov/Forecast\n",
      "[info]: Successfully fetched content for https://airquality.deq.louisiana.gov/Forecast\n",
      "[info]: Found 1 records for https://airquality.deq.louisiana.gov/Forecast\n",
      "[info]: Successfully fetched content for https://airquality.deq.louisiana.gov/Forecast\n"
     ]
    }
   ],
   "source": [
    "import cchelper\n",
    "\n",
    "# URL of the Common Crawl Index server\n",
    "server = 'http://index.commoncrawl.org/'\n",
    "\n",
    "# URL to look up in the Common Crawl index\n",
    "target_url = 'https://airquality.deq.louisiana.gov/Forecast'  # Replace with your target URL\n",
    "\n",
    "# EACH INDEX REPRESENTS A COMMON CRAWL ARCHIVE NUMBER (TIME/DATE DEPENDENT), SEE: https://commoncrawl.org/get-started\n",
    "indices = [10, 18, 22, 26, 30, 33, 38, 42]\n",
    "\n",
    "cchelper.store_cc_pages(server, target_url, indices, \"./sample\")"
   ]
  },
  {
   "cell_type": "code",
   "execution_count": null,
   "id": "9af690ce-9931-4634-bb2a-0d98de8420d6",
   "metadata": {},
   "outputs": [],
   "source": []
  }
 ],
 "metadata": {
  "kernelspec": {
   "display_name": "Python 3 (ipykernel)",
   "language": "python",
   "name": "python3"
  },
  "language_info": {
   "codemirror_mode": {
    "name": "ipython",
    "version": 3
   },
   "file_extension": ".py",
   "mimetype": "text/x-python",
   "name": "python",
   "nbconvert_exporter": "python",
   "pygments_lexer": "ipython3",
   "version": "3.10.10"
  }
 },
 "nbformat": 4,
 "nbformat_minor": 5
}
