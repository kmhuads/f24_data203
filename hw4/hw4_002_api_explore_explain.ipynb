{
 "cells": [
  {
   "cell_type": "markdown",
   "id": "8d8e3602-2d49-478d-b1e5-6d2fea6cb397",
   "metadata": {},
   "source": [
    "# HW4 002 API Extraction EXPLORE-EXPLAIN"
   ]
  },
  {
   "cell_type": "code",
   "execution_count": 1,
   "id": "f91db56e-7820-4371-bfa5-60a07eb8764e",
   "metadata": {},
   "outputs": [],
   "source": [
    "from helpers import pm25helper\n",
    "import pandas as pd\n",
    "from   datetime import timedelta\n",
    "import glob"
   ]
  },
  {
   "cell_type": "markdown",
   "id": "98c777d7-2467-4c15-a1e8-47baea6a2347",
   "metadata": {},
   "source": [
    "## EXPLORE\n",
    "\n",
    "Execute the cells below, play with the output and `df` so that you can be prepared for the questions below.  \n",
    "\n",
    "You should leave your playing in your submission, so I can see how you worked with the data to explore it."
   ]
  },
  {
   "cell_type": "code",
   "execution_count": 2,
   "id": "64783509-79af-40f0-a908-b8080bc430e1",
   "metadata": {},
   "outputs": [
    {
     "name": "stdout",
     "output_type": "stream",
     "text": [
      "data/cf_mossville/2.csv\n",
      "data/cf_mossville/6.csv\n",
      "data/cf_mossville/7.csv\n",
      "data/cf_mossville/8.csv\n",
      "data/cf_mossville/1.csv\n",
      "data/cf_mossville/5.csv\n",
      "data/cf_mossville/3.csv\n",
      "data/cf_mossville/4.csv\n",
      "data/cf_mossville/9.csv\n",
      "data/cf_mossville/10.csv\n"
     ]
    },
    {
     "name": "stderr",
     "output_type": "stream",
     "text": [
      "/tmp/ipykernel_2597933/1174149199.py:4: FutureWarning: The behavior of DataFrame concatenation with empty or all-NA entries is deprecated. In a future version, this will no longer exclude empty or all-NA columns when determining the result dtypes. To retain the old behavior, exclude the relevant entries before the concat operation.\n",
      "  df = pd.concat([df, pd.read_csv(f, index_col='time_stamp')])\n"
     ]
    }
   ],
   "source": [
    "df = pd.DataFrame()\n",
    "for f in glob.glob(\"data/cf_mossville/*\"):\n",
    "    print(f)\n",
    "    df = pd.concat([df, pd.read_csv(f, index_col='time_stamp')])\n",
    "df.index = pd.to_datetime(df.index)"
   ]
  },
  {
   "cell_type": "code",
   "execution_count": 3,
   "id": "86b0d7f7-8d35-4a6d-ae78-9986ec3ad9d8",
   "metadata": {},
   "outputs": [
    {
     "data": {
      "text/plain": [
       "Index(['sensor_index', '2.5_um_count', '2.5_um_count_a', '2.5_um_count_b',\n",
       "       'pm2.5_atm', 'pm2.5_atm_a', 'pm2.5_atm_b', 'pm2.5_cf_1', 'pm2.5_cf_1_a',\n",
       "       'pm2.5_cf_1_b'],\n",
       "      dtype='object')"
      ]
     },
     "execution_count": 3,
     "metadata": {},
     "output_type": "execute_result"
    }
   ],
   "source": [
    "df.columns"
   ]
  },
  {
   "cell_type": "markdown",
   "id": "aa2d6944-44cd-4fb4-97a9-9f415f53d859",
   "metadata": {},
   "source": [
    "## EXPLAIN\n",
    "\n",
    "1. In your own words, explain what loop in the cell above does?  Make sure your explanation could be understood by an 8th grader who has a basic understanding of the web.\n",
    "2. Explain what `df['pm2.5atm']` does?\n",
    "3. Look at the code in the cell for \"Answer #3\".  Look into the documentation for Pandas and explain what that code does in the \"Answer #3\" markdown cell.\n",
    "4. Which days have the highest pm2.5 means? (You will list just the 5 highest only and will **study and use** [DataFrame.nlargest()](https://pandas.pydata.org/pandas-docs/stable/reference/api/pandas.DataFrame.nlargest.html)).\n",
    "5. Explain what the code below the \"Answer #5\" cell does."
   ]
  },
  {
   "cell_type": "markdown",
   "id": "fb161f4b-4c5e-4cd2-921a-cbf1f80acfbd",
   "metadata": {},
   "source": [
    "## ANSWER #1\n",
    "\n",
    "**Edit this markdown cell** and put your answer."
   ]
  },
  {
   "cell_type": "markdown",
   "id": "87030616-c81e-47e6-b9be-fafa341bbe1a",
   "metadata": {},
   "source": [
    "## ANSWER #2\n",
    "\n",
    "**Edit this markdown cell** and put your answer.  You will also need at least one CODE cell below showing the execution of `df['pm2]`"
   ]
  },
  {
   "cell_type": "code",
   "execution_count": 4,
   "id": "9ca76da3-9052-44ea-a6d0-5edb8d42b36e",
   "metadata": {},
   "outputs": [],
   "source": [
    "# working code fragment"
   ]
  },
  {
   "cell_type": "markdown",
   "id": "211962d8-42e4-4734-9fbd-77feaabb7da5",
   "metadata": {},
   "source": [
    "## ANSWER #3\n",
    "\n",
    "**Edit this markdown cell** and put your answer.  You will also need at least one CODE cell below showing the execution of the code to get the highest and lowest readings."
   ]
  },
  {
   "cell_type": "code",
   "execution_count": 5,
   "id": "a8412063-c8cd-4810-8953-5f680d012db3",
   "metadata": {},
   "outputs": [
    {
     "data": {
      "text/html": [
       "<div>\n",
       "<style scoped>\n",
       "    .dataframe tbody tr th:only-of-type {\n",
       "        vertical-align: middle;\n",
       "    }\n",
       "\n",
       "    .dataframe tbody tr th {\n",
       "        vertical-align: top;\n",
       "    }\n",
       "\n",
       "    .dataframe thead th {\n",
       "        text-align: right;\n",
       "    }\n",
       "</style>\n",
       "<table border=\"1\" class=\"dataframe\">\n",
       "  <thead>\n",
       "    <tr style=\"text-align: right;\">\n",
       "      <th></th>\n",
       "      <th>pm2.5_atm</th>\n",
       "    </tr>\n",
       "    <tr>\n",
       "      <th>time_stamp</th>\n",
       "      <th></th>\n",
       "    </tr>\n",
       "  </thead>\n",
       "  <tbody>\n",
       "    <tr>\n",
       "      <th>2024-02-25 00:00:00+00:00</th>\n",
       "      <td>9.929602</td>\n",
       "    </tr>\n",
       "    <tr>\n",
       "      <th>2024-02-26 00:00:00+00:00</th>\n",
       "      <td>19.305769</td>\n",
       "    </tr>\n",
       "    <tr>\n",
       "      <th>2024-02-27 00:00:00+00:00</th>\n",
       "      <td>11.951812</td>\n",
       "    </tr>\n",
       "    <tr>\n",
       "      <th>2024-02-28 00:00:00+00:00</th>\n",
       "      <td>18.240583</td>\n",
       "    </tr>\n",
       "    <tr>\n",
       "      <th>2024-02-29 00:00:00+00:00</th>\n",
       "      <td>2.606073</td>\n",
       "    </tr>\n",
       "  </tbody>\n",
       "</table>\n",
       "</div>"
      ],
      "text/plain": [
       "                           pm2.5_atm\n",
       "time_stamp                          \n",
       "2024-02-25 00:00:00+00:00   9.929602\n",
       "2024-02-26 00:00:00+00:00  19.305769\n",
       "2024-02-27 00:00:00+00:00  11.951812\n",
       "2024-02-28 00:00:00+00:00  18.240583\n",
       "2024-02-29 00:00:00+00:00   2.606073"
      ]
     },
     "execution_count": 5,
     "metadata": {},
     "output_type": "execute_result"
    }
   ],
   "source": [
    "df = df.resample(\"1d\").mean()[['pm2.5_atm']]\n",
    "df.head()"
   ]
  },
  {
   "cell_type": "markdown",
   "id": "46bb89ea-e592-4eb1-a770-785d9838f895",
   "metadata": {},
   "source": [
    "## ANSWER #4\n",
    "\n",
    "**Edit this markdown cell** and put your answer.  You will also need at least one CODE cell below showing the execution of the code fragment."
   ]
  },
  {
   "cell_type": "code",
   "execution_count": 6,
   "id": "728d66cc-4c91-4de4-80ae-12e021a67c08",
   "metadata": {},
   "outputs": [],
   "source": [
    "# working code fragment"
   ]
  },
  {
   "cell_type": "markdown",
   "id": "55643c11-a30c-453a-9b77-eee2689e9608",
   "metadata": {},
   "source": [
    "## ANSWER #5\n",
    "\n",
    "**Edit this markdown cell** and put your answer.  "
   ]
  },
  {
   "cell_type": "code",
   "execution_count": 7,
   "id": "357a47d3-f197-41df-a554-6fc7ef90c3b5",
   "metadata": {},
   "outputs": [],
   "source": [
    "df.to_csv(\"data/mossville_pa_hmeans.csv\")"
   ]
  }
 ],
 "metadata": {
  "kernelspec": {
   "display_name": "Python 3 (ipykernel)",
   "language": "python",
   "name": "python3"
  },
  "language_info": {
   "codemirror_mode": {
    "name": "ipython",
    "version": 3
   },
   "file_extension": ".py",
   "mimetype": "text/x-python",
   "name": "python",
   "nbconvert_exporter": "python",
   "pygments_lexer": "ipython3",
   "version": "3.11.4"
  }
 },
 "nbformat": 4,
 "nbformat_minor": 5
}
