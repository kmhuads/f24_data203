{
 "cells": [
  {
   "cell_type": "markdown",
   "id": "8d8e3602-2d49-478d-b1e5-6d2fea6cb397",
   "metadata": {},
   "source": [
    "# HW4 001 Dirty Extraction EXPLORE-EXPLAIN"
   ]
  },
  {
   "cell_type": "code",
   "execution_count": 1,
   "id": "efa30af3-97eb-4752-a4eb-15ebd5e9967c",
   "metadata": {},
   "outputs": [],
   "source": [
    "from helpers import pm25helper\n",
    "import pandas as pd\n",
    "from   datetime import timedelta\n",
    "import glob"
   ]
  },
  {
   "cell_type": "markdown",
   "id": "98c777d7-2467-4c15-a1e8-47baea6a2347",
   "metadata": {},
   "source": [
    "## EXPLORE\n",
    "\n",
    "Execute the cells below, play with the output and `df` so that you can be prepared for the questions below.  \n",
    "\n",
    "You should leave your playing in your submission, so I can see how you worked with the data to explore it."
   ]
  },
  {
   "cell_type": "code",
   "execution_count": 2,
   "id": "64783509-79af-40f0-a908-b8080bc430e1",
   "metadata": {},
   "outputs": [],
   "source": [
    "df = pd.DataFrame()\n",
    "\n",
    "for f in glob.glob(\"sample/*.html\"):\n",
    "    start_dt, d = pm25helper.get_ladeq_pm25_data(f)\n",
    "    \n",
    "    df_tmp = pd.DataFrame(d).set_index(0)\n",
    "    df_tmp.columns = [(start_dt+timedelta(i)).strftime(\"%Y-%m-%d\") for i in range(0,3)]\n",
    "\n",
    "    df = pd.concat([df, df_tmp], axis=1)\n",
    "\n",
    "df = df.T.sort_index()\n",
    "df.to_csv(\"data/mossville_ldeq_cc_forecast_archives.csv\")"
   ]
  },
  {
   "cell_type": "markdown",
   "id": "aa2d6944-44cd-4fb4-97a9-9f415f53d859",
   "metadata": {},
   "source": [
    "## EXPLAIN\n",
    "\n",
    "1. In your own words, explain what the cell above does?  Make sure your explanation could be understood by an 8th grader who has a basic understanding of the web.\n",
    "2. Explain what `df['Monroe']` does?\n",
    "3. Write (and show) a cell which will give the highest PM2.5 reading for each column in the `df`.  You will not need to overthink this, see:\n",
    "4. Write the code fragment which will show all the data for the LDEQ data closest to Mossville (geographically).\n",
    "5. Which cities in the list has the highest and lowest AQ means? (You will list just the lowest and highest only.)\n",
    "6. Explain why this might or might not be relevant to Mossville?"
   ]
  },
  {
   "cell_type": "markdown",
   "id": "fb161f4b-4c5e-4cd2-921a-cbf1f80acfbd",
   "metadata": {},
   "source": [
    "## ANSWER #1\n",
    "\n",
    "**Edit this markdown cell** and put your answer."
   ]
  },
  {
   "cell_type": "markdown",
   "id": "87030616-c81e-47e6-b9be-fafa341bbe1a",
   "metadata": {},
   "source": [
    "## ANSWER #2\n",
    "\n",
    "**Edit this markdown cell** and put your answer.  You will also need at least one CODE cell below showing the execution of `df['Monroe']`"
   ]
  },
  {
   "cell_type": "code",
   "execution_count": 3,
   "id": "9ca76da3-9052-44ea-a6d0-5edb8d42b36e",
   "metadata": {},
   "outputs": [],
   "source": [
    "# working code fragment"
   ]
  },
  {
   "cell_type": "markdown",
   "id": "92abdb30-2e1e-4b94-8b30-6d18a5369e0f",
   "metadata": {},
   "source": [
    "## ANSWER #2\n",
    "\n",
    "**Edit this markdown cell** and put your answer.  You will also need at least one CODE cell below showing the execution of `df['Monroe']`"
   ]
  },
  {
   "cell_type": "code",
   "execution_count": 4,
   "id": "03725593-8965-4ea2-b003-3602cb440d2c",
   "metadata": {},
   "outputs": [],
   "source": [
    "# working code fragment"
   ]
  },
  {
   "cell_type": "markdown",
   "id": "211962d8-42e4-4734-9fbd-77feaabb7da5",
   "metadata": {},
   "source": [
    "## ANSWER #3\n",
    "\n",
    "**Edit this markdown cell** and put your answer.  You will also need at least one CODE cell below showing the execution of the code to get the highest and lowest readings."
   ]
  },
  {
   "cell_type": "code",
   "execution_count": 5,
   "id": "c1e33ca4-3e94-48c6-b997-0254d1f85c24",
   "metadata": {},
   "outputs": [],
   "source": [
    "# working code fragment"
   ]
  },
  {
   "cell_type": "markdown",
   "id": "46bb89ea-e592-4eb1-a770-785d9838f895",
   "metadata": {},
   "source": [
    "## ANSWER #4\n",
    "\n",
    "**Edit this markdown cell** and put your answer.  You will also need at least one CODE cell below showing the execution of the code fragment."
   ]
  },
  {
   "cell_type": "code",
   "execution_count": 6,
   "id": "bf592f0f-a2ea-452e-98de-1f8be7115bb0",
   "metadata": {},
   "outputs": [],
   "source": [
    "# working code fragment"
   ]
  },
  {
   "cell_type": "markdown",
   "id": "5395fc45-e119-4024-a2ec-b64d1bd9f153",
   "metadata": {},
   "source": [
    "## ANSWER #5\n",
    "\n",
    "**Edit this markdown cell** and put your answer.  You will also need at least one CODE cell below showing the execution of the code."
   ]
  },
  {
   "cell_type": "code",
   "execution_count": 7,
   "id": "2c7aa49d-426d-463d-b70b-93c01ce6aeac",
   "metadata": {},
   "outputs": [],
   "source": [
    "# working code fragment"
   ]
  },
  {
   "cell_type": "markdown",
   "id": "11930955-1696-4c55-bc48-74b8d8eb335d",
   "metadata": {},
   "source": [
    "## ANSWER #6\n",
    "\n",
    "**Edit this markdown cell** and put your answer. "
   ]
  }
 ],
 "metadata": {
  "kernelspec": {
   "display_name": "Python 3 (ipykernel)",
   "language": "python",
   "name": "python3"
  },
  "language_info": {
   "codemirror_mode": {
    "name": "ipython",
    "version": 3
   },
   "file_extension": ".py",
   "mimetype": "text/x-python",
   "name": "python",
   "nbconvert_exporter": "python",
   "pygments_lexer": "ipython3",
   "version": "3.11.4"
  }
 },
 "nbformat": 4,
 "nbformat_minor": 5
}
